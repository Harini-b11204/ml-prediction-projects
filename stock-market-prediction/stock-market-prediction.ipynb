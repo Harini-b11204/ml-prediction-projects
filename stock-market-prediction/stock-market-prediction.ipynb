{
 "cells": [
  {
   "cell_type": "code",
   "execution_count": null,
   "metadata": {
    "_cell_guid": "99b160e1-7241-4f7a-8bfb-11f3916fbfa9",
    "_uuid": "018ea079-04d0-4fbe-a54f-1ad325b4a7aa",
    "execution": {
     "iopub.execute_input": "2023-09-13T16:50:13.938567Z",
     "iopub.status.busy": "2023-09-13T16:50:13.937802Z",
     "iopub.status.idle": "2023-09-13T16:50:21.450570Z",
     "shell.execute_reply": "2023-09-13T16:50:21.449600Z",
     "shell.execute_reply.started": "2023-09-13T16:49:26.952916Z"
    },
    "papermill": {
     "duration": 7.524027,
     "end_time": "2023-09-13T16:50:21.450867",
     "exception": false,
     "start_time": "2023-09-13T16:50:13.926840",
     "status": "completed"
    },
    "tags": []
   },
   "outputs": [],
   "source": [
    "# This Python 3 environment comes with many helpful analytics libraries installed\n",
    "# It is defined by the kaggle/python Docker image: https://github.com/kaggle/docker-python\n",
    "# For example, here's several helpful packages to load\n",
    "\n",
    "\n",
    "# You can write up to 20GB to the current directory (/kaggle/working/) that gets preserved as output when you create a version using \"Save & Run All\" \n",
    "# You can also write temporary files to /kaggle/temp/, but they won't be saved outside of the current session\n",
    "\n",
    "\n",
    "# Import libraries\n",
    "import numpy as np\n",
    "import pandas as pd\n",
    "import tensorflow as tf\n",
    "from sklearn import preprocessing\n",
    "import matplotlib.pyplot as plt\n",
    "from sklearn.model_selection import train_test_split\n",
    "from sklearn.metrics import mean_absolute_error, mean_squared_error\n",
    "import os\n",
    "import random\n",
    "import tensorflow as tf\n",
    "from tensorflow import keras\n",
    "\n",
    "from keras.layers import Dense,Dropout, LSTM # Dense layers are \"fully connected\" layers\n",
    "from keras.models import Sequential # Documentation: https://keras.io/models/sequential/\n",
    "from keras.layers import  Flatten\n",
    "from keras.utils.np_utils import to_categorical\n",
    "\n",
    "\n"
   ]
  },
  {
   "cell_type": "code",
   "execution_count": null,
   "metadata": {
    "execution": {
     "iopub.execute_input": "2023-09-13T16:50:21.468092Z",
     "iopub.status.busy": "2023-09-13T16:50:21.467228Z",
     "iopub.status.idle": "2023-09-13T16:50:21.544865Z",
     "shell.execute_reply": "2023-09-13T16:50:21.546029Z",
     "shell.execute_reply.started": "2023-09-13T16:49:33.423582Z"
    },
    "papermill": {
     "duration": 0.089916,
     "end_time": "2023-09-13T16:50:21.546371",
     "exception": false,
     "start_time": "2023-09-13T16:50:21.456455",
     "status": "completed"
    },
    "tags": []
   },
   "outputs": [
    {
     "name": "stdout",
     "output_type": "stream",
     "text": [
      "<class 'pandas.core.frame.DataFrame'>\n",
      "RangeIndex: 12074 entries, 0 to 12073\n",
      "Data columns (total 7 columns):\n",
      " #   Column   Non-Null Count  Dtype  \n",
      "---  ------   --------------  -----  \n",
      " 0   Date     12074 non-null  object \n",
      " 1   Open     12074 non-null  float64\n",
      " 2   High     12074 non-null  float64\n",
      " 3   Low      12074 non-null  float64\n",
      " 4   Close    12074 non-null  float64\n",
      " 5   Volume   12074 non-null  int64  \n",
      " 6   OpenInt  12074 non-null  int64  \n",
      "dtypes: float64(4), int64(2), object(1)\n",
      "memory usage: 660.4+ KB\n"
     ]
    }
   ],
   "source": [
    "# Load the data\n",
    "df = pd.read_csv('../input/price-volume-data-for-all-us-stocks-etfs/Stocks/aa.us.txt')\n",
    "#print(df.shape)\n",
    "#print(df.head())\n",
    "#print(df.info())\n",
    "df.info()"
   ]
  },
  {
   "cell_type": "code",
   "execution_count": null,
   "metadata": {
    "execution": {
     "iopub.execute_input": "2023-09-13T16:50:21.567951Z",
     "iopub.status.busy": "2023-09-13T16:50:21.563491Z",
     "iopub.status.idle": "2023-09-13T16:50:21.609484Z",
     "shell.execute_reply": "2023-09-13T16:50:21.608757Z",
     "shell.execute_reply.started": "2023-09-13T16:49:33.499860Z"
    },
    "papermill": {
     "duration": 0.057529,
     "end_time": "2023-09-13T16:50:21.609670",
     "exception": false,
     "start_time": "2023-09-13T16:50:21.552141",
     "status": "completed"
    },
    "tags": []
   },
   "outputs": [
    {
     "data": {
      "text/html": [
       "<div>\n",
       "<style scoped>\n",
       "    .dataframe tbody tr th:only-of-type {\n",
       "        vertical-align: middle;\n",
       "    }\n",
       "\n",
       "    .dataframe tbody tr th {\n",
       "        vertical-align: top;\n",
       "    }\n",
       "\n",
       "    .dataframe thead th {\n",
       "        text-align: right;\n",
       "    }\n",
       "</style>\n",
       "<table border=\"1\" class=\"dataframe\">\n",
       "  <thead>\n",
       "    <tr style=\"text-align: right;\">\n",
       "      <th></th>\n",
       "      <th>Open</th>\n",
       "      <th>High</th>\n",
       "      <th>Low</th>\n",
       "      <th>Close</th>\n",
       "      <th>Volume</th>\n",
       "      <th>OpenInt</th>\n",
       "    </tr>\n",
       "  </thead>\n",
       "  <tbody>\n",
       "    <tr>\n",
       "      <th>count</th>\n",
       "      <td>12074.000000</td>\n",
       "      <td>12074.000000</td>\n",
       "      <td>12074.000000</td>\n",
       "      <td>12074.000000</td>\n",
       "      <td>1.207400e+04</td>\n",
       "      <td>12074.0</td>\n",
       "    </tr>\n",
       "    <tr>\n",
       "      <th>mean</th>\n",
       "      <td>24.419762</td>\n",
       "      <td>24.751516</td>\n",
       "      <td>24.056557</td>\n",
       "      <td>24.406203</td>\n",
       "      <td>3.337757e+06</td>\n",
       "      <td>0.0</td>\n",
       "    </tr>\n",
       "    <tr>\n",
       "      <th>std</th>\n",
       "      <td>23.647989</td>\n",
       "      <td>23.990163</td>\n",
       "      <td>23.260402</td>\n",
       "      <td>23.627596</td>\n",
       "      <td>5.203407e+06</td>\n",
       "      <td>0.0</td>\n",
       "    </tr>\n",
       "    <tr>\n",
       "      <th>min</th>\n",
       "      <td>1.252800</td>\n",
       "      <td>1.273000</td>\n",
       "      <td>1.232800</td>\n",
       "      <td>1.252800</td>\n",
       "      <td>0.000000e+00</td>\n",
       "      <td>0.0</td>\n",
       "    </tr>\n",
       "    <tr>\n",
       "      <th>25%</th>\n",
       "      <td>4.536150</td>\n",
       "      <td>4.593400</td>\n",
       "      <td>4.452900</td>\n",
       "      <td>4.536150</td>\n",
       "      <td>5.334490e+05</td>\n",
       "      <td>0.0</td>\n",
       "    </tr>\n",
       "    <tr>\n",
       "      <th>50%</th>\n",
       "      <td>16.453000</td>\n",
       "      <td>16.662000</td>\n",
       "      <td>16.243000</td>\n",
       "      <td>16.474000</td>\n",
       "      <td>1.395958e+06</td>\n",
       "      <td>0.0</td>\n",
       "    </tr>\n",
       "    <tr>\n",
       "      <th>75%</th>\n",
       "      <td>35.095750</td>\n",
       "      <td>35.507500</td>\n",
       "      <td>34.575000</td>\n",
       "      <td>35.001500</td>\n",
       "      <td>3.202536e+06</td>\n",
       "      <td>0.0</td>\n",
       "    </tr>\n",
       "    <tr>\n",
       "      <th>max</th>\n",
       "      <td>99.930000</td>\n",
       "      <td>101.820000</td>\n",
       "      <td>97.212000</td>\n",
       "      <td>98.864000</td>\n",
       "      <td>1.159616e+08</td>\n",
       "      <td>0.0</td>\n",
       "    </tr>\n",
       "  </tbody>\n",
       "</table>\n",
       "</div>"
      ],
      "text/plain": [
       "               Open          High           Low         Close        Volume  \\\n",
       "count  12074.000000  12074.000000  12074.000000  12074.000000  1.207400e+04   \n",
       "mean      24.419762     24.751516     24.056557     24.406203  3.337757e+06   \n",
       "std       23.647989     23.990163     23.260402     23.627596  5.203407e+06   \n",
       "min        1.252800      1.273000      1.232800      1.252800  0.000000e+00   \n",
       "25%        4.536150      4.593400      4.452900      4.536150  5.334490e+05   \n",
       "50%       16.453000     16.662000     16.243000     16.474000  1.395958e+06   \n",
       "75%       35.095750     35.507500     34.575000     35.001500  3.202536e+06   \n",
       "max       99.930000    101.820000     97.212000     98.864000  1.159616e+08   \n",
       "\n",
       "       OpenInt  \n",
       "count  12074.0  \n",
       "mean       0.0  \n",
       "std        0.0  \n",
       "min        0.0  \n",
       "25%        0.0  \n",
       "50%        0.0  \n",
       "75%        0.0  \n",
       "max        0.0  "
      ]
     },
     "execution_count": 3,
     "metadata": {},
     "output_type": "execute_result"
    }
   ],
   "source": [
    "df.describe()"
   ]
  },
  {
   "cell_type": "code",
   "execution_count": null,
   "metadata": {
    "execution": {
     "iopub.execute_input": "2023-09-13T16:50:21.636088Z",
     "iopub.status.busy": "2023-09-13T16:50:21.635040Z",
     "iopub.status.idle": "2023-09-13T16:50:21.641388Z",
     "shell.execute_reply": "2023-09-13T16:50:21.640115Z",
     "shell.execute_reply.started": "2023-09-13T16:49:33.543374Z"
    },
    "papermill": {
     "duration": 0.026254,
     "end_time": "2023-09-13T16:50:21.641584",
     "exception": false,
     "start_time": "2023-09-13T16:50:21.615330",
     "status": "completed"
    },
    "tags": []
   },
   "outputs": [
    {
     "data": {
      "text/html": [
       "<div>\n",
       "<style scoped>\n",
       "    .dataframe tbody tr th:only-of-type {\n",
       "        vertical-align: middle;\n",
       "    }\n",
       "\n",
       "    .dataframe tbody tr th {\n",
       "        vertical-align: top;\n",
       "    }\n",
       "\n",
       "    .dataframe thead th {\n",
       "        text-align: right;\n",
       "    }\n",
       "</style>\n",
       "<table border=\"1\" class=\"dataframe\">\n",
       "  <thead>\n",
       "    <tr style=\"text-align: right;\">\n",
       "      <th></th>\n",
       "      <th>Date</th>\n",
       "      <th>Open</th>\n",
       "      <th>High</th>\n",
       "      <th>Low</th>\n",
       "      <th>Close</th>\n",
       "      <th>Volume</th>\n",
       "      <th>OpenInt</th>\n",
       "    </tr>\n",
       "  </thead>\n",
       "  <tbody>\n",
       "    <tr>\n",
       "      <th>0</th>\n",
       "      <td>1970-01-02</td>\n",
       "      <td>2.2972</td>\n",
       "      <td>2.3178</td>\n",
       "      <td>2.2972</td>\n",
       "      <td>2.2972</td>\n",
       "      <td>26437</td>\n",
       "      <td>0</td>\n",
       "    </tr>\n",
       "    <tr>\n",
       "      <th>1</th>\n",
       "      <td>1970-01-05</td>\n",
       "      <td>2.2972</td>\n",
       "      <td>2.2972</td>\n",
       "      <td>2.2544</td>\n",
       "      <td>2.2759</td>\n",
       "      <td>29887</td>\n",
       "      <td>0</td>\n",
       "    </tr>\n",
       "    <tr>\n",
       "      <th>2</th>\n",
       "      <td>1970-01-06</td>\n",
       "      <td>2.2759</td>\n",
       "      <td>2.2759</td>\n",
       "      <td>2.2342</td>\n",
       "      <td>2.2342</td>\n",
       "      <td>106900</td>\n",
       "      <td>0</td>\n",
       "    </tr>\n",
       "    <tr>\n",
       "      <th>3</th>\n",
       "      <td>1970-01-07</td>\n",
       "      <td>2.2342</td>\n",
       "      <td>2.2342</td>\n",
       "      <td>2.2342</td>\n",
       "      <td>2.2342</td>\n",
       "      <td>85061</td>\n",
       "      <td>0</td>\n",
       "    </tr>\n",
       "    <tr>\n",
       "      <th>4</th>\n",
       "      <td>1970-01-08</td>\n",
       "      <td>2.2342</td>\n",
       "      <td>2.2342</td>\n",
       "      <td>2.2139</td>\n",
       "      <td>2.2139</td>\n",
       "      <td>66669</td>\n",
       "      <td>0</td>\n",
       "    </tr>\n",
       "  </tbody>\n",
       "</table>\n",
       "</div>"
      ],
      "text/plain": [
       "         Date    Open    High     Low   Close  Volume  OpenInt\n",
       "0  1970-01-02  2.2972  2.3178  2.2972  2.2972   26437        0\n",
       "1  1970-01-05  2.2972  2.2972  2.2544  2.2759   29887        0\n",
       "2  1970-01-06  2.2759  2.2759  2.2342  2.2342  106900        0\n",
       "3  1970-01-07  2.2342  2.2342  2.2342  2.2342   85061        0\n",
       "4  1970-01-08  2.2342  2.2342  2.2139  2.2139   66669        0"
      ]
     },
     "execution_count": 4,
     "metadata": {},
     "output_type": "execute_result"
    }
   ],
   "source": [
    "df.head()"
   ]
  },
  {
   "cell_type": "code",
   "execution_count": null,
   "metadata": {
    "execution": {
     "iopub.execute_input": "2023-09-13T16:50:21.661369Z",
     "iopub.status.busy": "2023-09-13T16:50:21.660294Z",
     "iopub.status.idle": "2023-09-13T16:50:21.666166Z",
     "shell.execute_reply": "2023-09-13T16:50:21.665354Z",
     "shell.execute_reply.started": "2023-09-13T16:49:33.563680Z"
    },
    "papermill": {
     "duration": 0.018929,
     "end_time": "2023-09-13T16:50:21.666340",
     "exception": false,
     "start_time": "2023-09-13T16:50:21.647411",
     "status": "completed"
    },
    "tags": []
   },
   "outputs": [],
   "source": [
    "# divide the data between Dependent and independent variable\n",
    "x = df.iloc[:,[1,2,3,5]]\n",
    "#print(x.head())\n",
    "x=x.values\n",
    "y= df.iloc[:,4].values\n",
    "#print(y.head())\n",
    "#x=np.asarray(x).astype(np.float32)\n"
   ]
  },
  {
   "cell_type": "code",
   "execution_count": null,
   "metadata": {
    "execution": {
     "iopub.execute_input": "2023-09-13T16:50:21.685290Z",
     "iopub.status.busy": "2023-09-13T16:50:21.684298Z",
     "iopub.status.idle": "2023-09-13T16:50:21.691984Z",
     "shell.execute_reply": "2023-09-13T16:50:21.691095Z",
     "shell.execute_reply.started": "2023-09-13T16:49:33.571900Z"
    },
    "papermill": {
     "duration": 0.020148,
     "end_time": "2023-09-13T16:50:21.692254",
     "exception": false,
     "start_time": "2023-09-13T16:50:21.672106",
     "status": "completed"
    },
    "tags": []
   },
   "outputs": [
    {
     "data": {
      "text/plain": [
       "(9659, 4)"
      ]
     },
     "execution_count": 6,
     "metadata": {},
     "output_type": "execute_result"
    }
   ],
   "source": [
    "# Train test split \n",
    "x_train, x_test, y_train, y_test = train_test_split(x, y, test_size=0.20, random_state=1)\n",
    "(x_train.shape)\n",
    "\n"
   ]
  },
  {
   "cell_type": "code",
   "execution_count": null,
   "metadata": {
    "execution": {
     "iopub.execute_input": "2023-09-13T16:50:21.711238Z",
     "iopub.status.busy": "2023-09-13T16:50:21.710232Z",
     "iopub.status.idle": "2023-09-13T16:50:21.715584Z",
     "shell.execute_reply": "2023-09-13T16:50:21.714952Z",
     "shell.execute_reply.started": "2023-09-13T16:49:33.589686Z"
    },
    "papermill": {
     "duration": 0.016692,
     "end_time": "2023-09-13T16:50:21.715785",
     "exception": false,
     "start_time": "2023-09-13T16:50:21.699093",
     "status": "completed"
    },
    "tags": []
   },
   "outputs": [
    {
     "data": {
      "text/plain": [
       "(9659,)"
      ]
     },
     "execution_count": 7,
     "metadata": {},
     "output_type": "execute_result"
    }
   ],
   "source": [
    "(y_train.shape)"
   ]
  },
  {
   "cell_type": "code",
   "execution_count": null,
   "metadata": {
    "execution": {
     "iopub.execute_input": "2023-09-13T16:50:21.736234Z",
     "iopub.status.busy": "2023-09-13T16:50:21.735450Z",
     "iopub.status.idle": "2023-09-13T16:50:21.840458Z",
     "shell.execute_reply": "2023-09-13T16:50:21.841004Z",
     "shell.execute_reply.started": "2023-09-13T16:49:33.599015Z"
    },
    "papermill": {
     "duration": 0.11909,
     "end_time": "2023-09-13T16:50:21.841250",
     "exception": false,
     "start_time": "2023-09-13T16:50:21.722160",
     "status": "completed"
    },
    "tags": []
   },
   "outputs": [
    {
     "name": "stdout",
     "output_type": "stream",
     "text": [
      "Model: \"sequential\"\n",
      "_________________________________________________________________\n",
      "Layer (type)                 Output Shape              Param #   \n",
      "=================================================================\n",
      "dense (Dense)                (None, 32)                160       \n",
      "_________________________________________________________________\n",
      "dense_1 (Dense)              (None, 64)                2112      \n",
      "_________________________________________________________________\n",
      "dense_2 (Dense)              (None, 1)                 65        \n",
      "=================================================================\n",
      "Total params: 2,337\n",
      "Trainable params: 2,337\n",
      "Non-trainable params: 0\n",
      "_________________________________________________________________\n"
     ]
    }
   ],
   "source": [
    "input_shape  = x_train.shape[1]\n",
    "# Create the model: model\n",
    "model = Sequential()\n",
    "# Add the first hidden layer\n",
    "model.add(Dense(32, activation='relu',input_shape=(input_shape,)))\n",
    "\n",
    "# Add the second hidden layer\n",
    "model.add(Dense(64, activation='relu',input_shape=(32, )))\n",
    "\n",
    "model.add(Dense(1,activation='linear',input_shape=(64, )))\n",
    "model.summary()"
   ]
  },
  {
   "cell_type": "code",
   "execution_count": null,
   "metadata": {
    "execution": {
     "iopub.execute_input": "2023-09-13T16:50:21.857265Z",
     "iopub.status.busy": "2023-09-13T16:50:21.856503Z",
     "iopub.status.idle": "2023-09-13T16:50:23.117548Z",
     "shell.execute_reply": "2023-09-13T16:50:23.116678Z",
     "shell.execute_reply.started": "2023-09-13T16:49:33.698183Z"
    },
    "papermill": {
     "duration": 1.270453,
     "end_time": "2023-09-13T16:50:23.117783",
     "exception": false,
     "start_time": "2023-09-13T16:50:21.847330",
     "status": "completed"
    },
    "tags": []
   },
   "outputs": [
    {
     "name": "stdout",
     "output_type": "stream",
     "text": [
      "302/302 [==============================] - 1s 1ms/step - loss: 15039019592.6601 - accuracy: 0.0000e+00\n"
     ]
    },
    {
     "data": {
      "text/plain": [
       "('Mean Absolute Error: ', 38.94186796148959)"
      ]
     },
     "execution_count": 9,
     "metadata": {},
     "output_type": "execute_result"
    }
   ],
   "source": [
    "model.compile(optimizer='adam', loss='mean_squared_error' , metrics=['accuracy'])\n",
    "model.fit(x_train,y_train,epochs=1, shuffle=True)\n",
    "pred = model.predict(x_test, verbose=0)\n",
    "('Mean Absolute Error: ', mean_absolute_error(y_test, pred))\n",
    "\n"
   ]
  },
  {
   "cell_type": "code",
   "execution_count": null,
   "metadata": {
    "execution": {
     "iopub.execute_input": "2023-09-13T16:50:23.140165Z",
     "iopub.status.busy": "2023-09-13T16:50:23.139094Z",
     "iopub.status.idle": "2023-09-13T16:50:23.144257Z",
     "shell.execute_reply": "2023-09-13T16:50:23.143595Z",
     "shell.execute_reply.started": "2023-09-13T16:49:34.801989Z"
    },
    "papermill": {
     "duration": 0.018038,
     "end_time": "2023-09-13T16:50:23.144443",
     "exception": false,
     "start_time": "2023-09-13T16:50:23.126405",
     "status": "completed"
    },
    "tags": []
   },
   "outputs": [
    {
     "data": {
      "text/plain": [
       "array([[-37.818516 ],\n",
       "       [ -1.2247653],\n",
       "       [-48.185703 ],\n",
       "       ...,\n",
       "       [-32.623203 ],\n",
       "       [ -7.207187 ],\n",
       "       [-31.607578 ]], dtype=float32)"
      ]
     },
     "execution_count": 10,
     "metadata": {},
     "output_type": "execute_result"
    }
   ],
   "source": [
    "pred"
   ]
  },
  {
   "cell_type": "code",
   "execution_count": null,
   "metadata": {
    "execution": {
     "iopub.execute_input": "2023-09-13T16:50:23.165266Z",
     "iopub.status.busy": "2023-09-13T16:50:23.164271Z",
     "iopub.status.idle": "2023-09-13T16:50:23.169527Z",
     "shell.execute_reply": "2023-09-13T16:50:23.168804Z",
     "shell.execute_reply.started": "2023-09-13T16:49:34.809971Z"
    },
    "papermill": {
     "duration": 0.018437,
     "end_time": "2023-09-13T16:50:23.169713",
     "exception": false,
     "start_time": "2023-09-13T16:50:23.151276",
     "status": "completed"
    },
    "tags": []
   },
   "outputs": [
    {
     "data": {
      "text/plain": [
       "('Mean Squared Error: ', 2770.3612586348368)"
      ]
     },
     "execution_count": 11,
     "metadata": {},
     "output_type": "execute_result"
    }
   ],
   "source": [
    "('Mean Squared Error: ', mean_squared_error(y_test, pred))"
   ]
  }
 ],
 "metadata": {
  "kernelspec": {
   "display_name": "Python 3",
   "language": "python",
   "name": "python3"
  },
  "language_info": {
   "codemirror_mode": {
    "name": "ipython",
    "version": 3
   },
   "file_extension": ".py",
   "mimetype": "text/x-python",
   "name": "python",
   "nbconvert_exporter": "python",
   "pygments_lexer": "ipython3",
   "version": "3.12.3"
  },
  "papermill": {
   "default_parameters": {},
   "duration": 18.007449,
   "end_time": "2023-09-13T16:50:25.695203",
   "environment_variables": {},
   "exception": null,
   "input_path": "__notebook__.ipynb",
   "output_path": "__notebook__.ipynb",
   "parameters": {},
   "start_time": "2023-09-13T16:50:07.687754",
   "version": "2.2.2"
  }
 },
 "nbformat": 4,
 "nbformat_minor": 4
}
